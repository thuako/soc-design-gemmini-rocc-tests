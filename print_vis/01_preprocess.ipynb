{
 "cells": [
  {
   "cell_type": "markdown",
   "metadata": {},
   "source": [
    "### hw print 결과들을 pandas Dataframe으로 전처리하는 코드 입니다."
   ]
  },
  {
   "cell_type": "code",
   "execution_count": 1,
   "metadata": {},
   "outputs": [],
   "source": [
    "import glob\n",
    "import pandas as pd\n",
    "import numpy as np\n",
    "import pickle\n",
    "import os"
   ]
  },
  {
   "cell_type": "code",
   "execution_count": 2,
   "metadata": {},
   "outputs": [
    {
     "data": {
      "text/plain": [
       "['/home/centos/firesim/deploy/results-workload/allocate-fpga-print/version3/soc-gemmini-multisim.2MB-gemmini.basic/synthesized-prints.out0',\n",
       " '/home/centos/firesim/deploy/results-workload/allocate-fpga-print/version3/soc-gemmini-multisim.2MB-gemmini.double/synthesized-prints.out0',\n",
       " '/home/centos/firesim/deploy/results-workload/allocate-fpga-print/version3/soc-gemmini-multisim.2MB-gemmini.loop/synthesized-prints.out0',\n",
       " '/home/centos/firesim/deploy/results-workload/allocate-fpga-print/version3/soc-gemmini-multisim.gemmini.basic/synthesized-prints.out0',\n",
       " '/home/centos/firesim/deploy/results-workload/allocate-fpga-print/version3/soc-gemmini-multisim.gemmini.double/synthesized-prints.out0',\n",
       " '/home/centos/firesim/deploy/results-workload/allocate-fpga-print/version3/soc-gemmini-multisim.gemmini.loop/synthesized-prints.out0']"
      ]
     },
     "execution_count": 2,
     "metadata": {},
     "output_type": "execute_result"
    }
   ],
   "source": [
    "# file_path는 실험결과가 어디에 저장되는지에 따라 달라질 수 있습니다.\n",
    "dir_path = \"/home/centos/firesim/deploy/results-workload/allocate-fpga-print/version3/\"\n",
    "file_paths = glob.glob(dir_path+'/*/syn*')\n",
    "file_paths = sorted(file_paths)\n",
    "file_paths"
   ]
  },
  {
   "cell_type": "code",
   "execution_count": 3,
   "metadata": {},
   "outputs": [],
   "source": [
    "if not os.path.isdir(\"./dataframe\"):\n",
    "\tos.mkdir(\"./dataframe\")"
   ]
  },
  {
   "cell_type": "code",
   "execution_count": 6,
   "metadata": {},
   "outputs": [
    {
     "ename": "KeyboardInterrupt",
     "evalue": "",
     "output_type": "error",
     "traceback": [
      "\u001b[0;31m---------------------------------------------------------------------------\u001b[0m",
      "\u001b[0;31mKeyboardInterrupt\u001b[0m                         Traceback (most recent call last)",
      "\u001b[0;32m<ipython-input-6-16c1982dae88>\u001b[0m in \u001b[0;36m<module>\u001b[0;34m\u001b[0m\n\u001b[1;32m     21\u001b[0m                                 \u001b[0;32mbreak\u001b[0m\u001b[0;34m\u001b[0m\u001b[0;34m\u001b[0m\u001b[0m\n\u001b[1;32m     22\u001b[0m \u001b[0;34m\u001b[0m\u001b[0m\n\u001b[0;32m---> 23\u001b[0;31m                         \u001b[0mstr1\u001b[0m\u001b[0;34m,\u001b[0m \u001b[0;34m*\u001b[0m\u001b[0mstr2\u001b[0m \u001b[0;34m=\u001b[0m \u001b[0mone_line\u001b[0m\u001b[0;34m.\u001b[0m\u001b[0msplit\u001b[0m\u001b[0;34m(\u001b[0m\u001b[0;34m' '\u001b[0m\u001b[0;34m)\u001b[0m\u001b[0;34m[\u001b[0m\u001b[0;36m3\u001b[0m\u001b[0;34m:\u001b[0m\u001b[0;34m]\u001b[0m\u001b[0;34m\u001b[0m\u001b[0;34m\u001b[0m\u001b[0m\n\u001b[0m\u001b[1;32m     24\u001b[0m                         \u001b[0mcycle\u001b[0m\u001b[0;34m[\u001b[0m\u001b[0mi\u001b[0m\u001b[0;34m]\u001b[0m \u001b[0;34m=\u001b[0m \u001b[0mint\u001b[0m\u001b[0;34m(\u001b[0m\u001b[0mstr1\u001b[0m\u001b[0;34m)\u001b[0m\u001b[0;34m\u001b[0m\u001b[0;34m\u001b[0m\u001b[0m\n\u001b[1;32m     25\u001b[0m                         \u001b[0mval1\u001b[0m\u001b[0;34m,\u001b[0m \u001b[0mval2\u001b[0m\u001b[0;34m,\u001b[0m \u001b[0mval3\u001b[0m \u001b[0;34m=\u001b[0m \u001b[0;34m''\u001b[0m\u001b[0;34m.\u001b[0m\u001b[0mjoin\u001b[0m\u001b[0;34m(\u001b[0m\u001b[0mstr2\u001b[0m\u001b[0;34m)\u001b[0m\u001b[0;34m.\u001b[0m\u001b[0mstrip\u001b[0m\u001b[0;34m(\u001b[0m\u001b[0;34m)\u001b[0m\u001b[0;34m.\u001b[0m\u001b[0msplit\u001b[0m\u001b[0;34m(\u001b[0m\u001b[0;34m','\u001b[0m\u001b[0;34m)\u001b[0m\u001b[0;34m\u001b[0m\u001b[0;34m\u001b[0m\u001b[0m\n",
      "\u001b[0;31mKeyboardInterrupt\u001b[0m: "
     ]
    }
   ],
   "source": [
    "for file_path in file_paths:\n",
    "\tline_count = 0\n",
    "\t\n",
    "\t# line count\n",
    "\twith open(file_path, 'r') as f:\n",
    "\t\tone_line = f.readline()\n",
    "\t\twhile True:\n",
    "\t\t\tone_line = f.readline()\n",
    "\t\t\tif not one_line:\n",
    "\t\t\t\tbreak\n",
    "\t\t\tline_count+=1\n",
    "\n",
    "\t# pre-allocate memory space\n",
    "\tcycle = np.zeros(line_count, dtype=np.uint32)\n",
    "\tcontrol = np.zeros(line_count, dtype=np.str)\n",
    "\tbank = np.zeros(line_count, dtype=np.uint8)\n",
    "\trow_addr = np.zeros(line_count, dtype=np.uint16)\n",
    "\n",
    "\t# read text file\n",
    "\twith open(file_path, 'r') as f:\n",
    "\t\tone_line = f.readline() #skip first line\n",
    "\t\tfor i in range(line_count):\n",
    "\t\t\tone_line = f.readline()\n",
    "\t\t\tif not one_line:\n",
    "\t\t\t\tbreak\n",
    "\n",
    "\t\t\tstr1, *str2 = one_line.split(' ')[3:]\n",
    "\t\t\tcycle[i] = int(str1)\n",
    "\t\t\tval1, val2, val3 = ''.join(str2).strip().split(',')\n",
    "\t\t\tcontrol[i] = val1\n",
    "\t\t\tbank[i] = int(val2)\n",
    "\t\t\trow_addr[i] = int(val3)\n",
    "\t\n",
    "\t# make DataFrame and check conflict\n",
    "\tdf = pd.DataFrame({\"cycle\":cycle,\"control\":control,\"bank\":bank, \"row_addr\":row_addr})\n",
    "\tdf_e = df[df.control=='E']\n",
    "\tdf_l = df[df.control=='L']\n",
    "\tdf_all = pd.merge(left=df_l, right=df_e, how=\"outer\", on='cycle')\n",
    "\n",
    "\tbool_idx = df_all.isna()\n",
    "\tbool_idx =  np.all(~bool_idx, axis = 1)\n",
    "\n",
    "\tdf_both = df_all[bool_idx]\n",
    "\tdf_both = df_both.astype({\"bank_x\":np.uint8,\"bank_y\":np.uint8})\n",
    "\tdf_conflict = df_both[df_both.bank_x==df_both.bank_y]\n",
    "\n",
    "\t#print total_cycle, conflict_cycle\n",
    "\tprint(df.iloc[-1].cycle - df.iloc[0].cycle, len(df_conflict))\n",
    "\n",
    "\tbool_idx = np.logical_and(df.cycle.isin(df_conflict.cycle), df.control==\"L\")\n",
    "\tdf.loc[bool_idx, 'control'] ='LC'\n",
    "\tbool_idx = np.logical_and(df.cycle.isin(df_conflict.cycle), df.control==\"E\")\n",
    "\tdf.loc[bool_idx, 'control'] ='EC'\n",
    "\n",
    "\tprint(f\"{file_path} completed\")\n",
    "\n",
    "\n",
    "\t# save pickle\n",
    "\twith open(\"dataframe/\"+file_path.split('/')[-2], 'wb') as f:\n",
    "\t\tpickle.dump(df, f)"
   ]
  },
  {
   "cell_type": "code",
   "execution_count": null,
   "metadata": {},
   "outputs": [],
   "source": [
    "# result                         (total_cycle, conflict_cycle)\n",
    "\n",
    "# 2MB-gemmini.basic           --> (474464744, 2960975)\n",
    "# 2MB-gemmini.double          --> (473868989, 2946508)\n",
    "# 2MB-gemmini.loop            --> (131033537, 3415504)\n",
    "\n",
    "# gemmini.basic               --> (467702055, 2622277)\n",
    "# gemmini.double              --> (467229573, 2632215)\n",
    "# gemmini.loop                --> (123235541, 3710762)"
   ]
  }
 ],
 "metadata": {
  "interpreter": {
   "hash": "31f2aee4e71d21fbe5cf8b01ff0e069b9275f58929596ceb00d14d90e3e16cd6"
  },
  "kernelspec": {
   "display_name": "Python 3",
   "language": "python",
   "name": "python3"
  },
  "language_info": {
   "codemirror_mode": {
    "name": "ipython",
    "version": 3
   },
   "file_extension": ".py",
   "mimetype": "text/x-python",
   "name": "python",
   "nbconvert_exporter": "python",
   "pygments_lexer": "ipython3",
   "version": "3.6.10"
  }
 },
 "nbformat": 4,
 "nbformat_minor": 4
}
