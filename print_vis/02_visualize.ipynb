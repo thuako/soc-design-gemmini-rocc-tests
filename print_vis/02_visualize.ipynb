{
 "cells": [
  {
   "cell_type": "markdown",
   "id": "e3f4d7e3",
   "metadata": {},
   "source": [
    "### 01_preprocess로 생성된 DataFrame으로 visualization을 수행합니다. 01 과정을 먼저 수행 후 이 과정을 수행해야합니다."
   ]
  },
  {
   "cell_type": "code",
   "execution_count": 1,
   "id": "b1170150-6b4a-4a12-9e97-60fae2a09d5d",
   "metadata": {},
   "outputs": [],
   "source": [
    "import glob\n",
    "import os\n",
    "import pandas as pd\n",
    "import numpy as np\n",
    "import matplotlib.pyplot as plt\n",
    "import seaborn as sns\n",
    "import pickle\n",
    "from ipywidgets import widgets\n",
    "import plotly.express as px\n",
    "from plotly.subplots import make_subplots\n",
    "import plotly.graph_objects as go"
   ]
  },
  {
   "cell_type": "code",
   "execution_count": 2,
   "id": "e272ccf0-6ef8-4398-99f9-6f3e854862c3",
   "metadata": {},
   "outputs": [
    {
     "data": {
      "text/plain": [
       "['./dataframe/soc-gemmini-multisim.2MB-gemmini.basic',\n",
       " './dataframe/soc-gemmini-multisim.2MB-gemmini.double',\n",
       " './dataframe/soc-gemmini-multisim.2MB-gemmini.loop',\n",
       " './dataframe/soc-gemmini-multisim.gemmini.basic',\n",
       " './dataframe/soc-gemmini-multisim.gemmini.double',\n",
       " './dataframe/soc-gemmini-multisim.gemmini.loop']"
      ]
     },
     "execution_count": 2,
     "metadata": {},
     "output_type": "execute_result"
    }
   ],
   "source": [
    "file_name = glob.glob('./dataframe/soc-gemmini*')\n",
    "file_name = sorted(file_name)\n",
    "file_name"
   ]
  },
  {
   "cell_type": "code",
   "execution_count": 3,
   "id": "95652b30-397c-49b8-b868-57567054867d",
   "metadata": {},
   "outputs": [],
   "source": [
    "if not os.path.isfile(\"all_result\"):\n",
    "    df={}\n",
    "    df['2mb']={}\n",
    "    df['base']={}\n",
    "    for i in range(len(file_name)):\n",
    "        print(file_name[i])\n",
    "        with open(file_name[i], 'rb') as f:\n",
    "            dataframe = pickle.load(f)\n",
    "            \n",
    "        if(file_name[i].split('.')[-2][:3]==\"2MB\"):\n",
    "            df['2mb'][file_name[i].split('.')[-1]] = dataframe\n",
    "        else:\n",
    "            df['base'][file_name[i].split('.')[-1]] = dataframe\n",
    "\n",
    "    with open('all_result', 'wb') as f:\n",
    "        pickle.dump(df, f)\n",
    "else:\n",
    "    with open('all_result', 'rb') as f:\n",
    "        df = pickle.load(f)\n"
   ]
  },
  {
   "cell_type": "code",
   "execution_count": 4,
   "id": "82f77164-13b0-436b-835c-5916cc76faef",
   "metadata": {},
   "outputs": [],
   "source": [
    "if not os.path.isfile(\"all_logs\"):\n",
    "\tdir_path = \"/home/centos/firesim/deploy/results-workload/allocate-fpga-print/version3/\"\n",
    "\tlog_paths = glob.glob(dir_path+'/*/result.log')\n",
    "\tlog_paths = sorted(log_paths)\n",
    "\n",
    "\tlogs={}\n",
    "\tlogs['2mb']={}\n",
    "\tlogs['base']={}\n",
    "\n",
    "\tfor log_path in log_paths:\n",
    "\t\twith open(log_path, 'r') as f:\n",
    "\t\t\tlines = f.readlines()\n",
    "\t\tlines = lines[5:-14]\n",
    "\n",
    "\t\tlayer_type_list=[]\n",
    "\t\tlayer_num_list=[]\n",
    "\t\tstart_cycle_list=[]\n",
    "\t\tend_cycle_list=[]\n",
    "\n",
    "\t\tfor line in lines:\n",
    "\t\t\tlayer_type, layer_num, _, start_cycle, end_cycle, _ = line.split(' ')\n",
    "\t\t\tlayer_type_list.append(layer_type)\n",
    "\t\t\tlayer_num_list.append(int(layer_num))\n",
    "\t\t\tstart_cycle_list.append(int(start_cycle.split('\\t')[-2]))\n",
    "\t\t\tend_cycle_list.append(int(end_cycle.split('\\t')[-2]))\n",
    "\t\tlog_df = pd.DataFrame({'layer_num':layer_num_list, \"layer_type\":layer_type_list,\"start_cycle\":start_cycle_list, \"end_cycle\":end_cycle_list})\n",
    "\t\t\n",
    "\t\tlog_name = log_path.split('/')[-2]\n",
    "\t\tif(log_name.split('.')[-2][:3]==\"2MB\"):\n",
    "\t\t\tlogs['2mb'][log_name.split('.')[-1]] = log_df\n",
    "\t\telse:\n",
    "\t\t\tlogs['base'][log_name.split('.')[-1]] = log_df\n",
    "\t\t\t\n",
    "\twith open('all_logs', 'wb') as f:\n",
    "\t\tpickle.dump(logs, f)\n",
    "\n",
    "else:\n",
    "\twith open('all_logs', 'rb') as f:\n",
    "\t\tlogs = pickle.load(f)"
   ]
  },
  {
   "cell_type": "code",
   "execution_count": null,
   "id": "efea9f2c-18fb-431f-a8ca-c55816b2567b",
   "metadata": {},
   "outputs": [],
   "source": [
    "#select config(hw, sw, layer)\n",
    "hardware = 'base'\n",
    "software = 'loop'\n",
    "layer_num = 3\n",
    "\n",
    "log_df = logs[hardware][software]\n",
    "result_df = df[hardware][software]\n",
    "\n",
    "\n",
    "#cycle config : 너무 많은 사이클을 나타내려고 하면 visualization이 안될 수 있습니다.\n",
    "start_cycle = log_df[log_df.layer_num==layer_num].start_cycle.values[0]\n",
    "end_cycle = start_cycle + 100000\n",
    "# end_cycle = log_df[log_df.layer_num==layer_num].end_cycle.values[0]\n",
    "\n",
    "\n",
    "\n",
    "layer_df = result_df[np.logical_and(result_df.cycle>=start_cycle, result_df.cycle<=end_cycle)]\n",
    "\n",
    "fig = px.line(layer_df, x='row_addr',y='bank', color='control',\n",
    "\t\tcategory_orders={'bank':[3,2,1,0]}, hover_data=['cycle'], symbol='control'\n",
    ")\n",
    "fig.update_xaxes(range=[0,4096])\n",
    "fig.update_yaxes(range=[0,3])\n",
    "fig.update_yaxes(type='category')\n",
    "fig.update_layout(width=1000, height=400)\n",
    "\n",
    "# plot show or save\n",
    "fig.show()\n",
    "# fig.write_html(\"{}_{}_{}.html\".format(hardware,software,layer_num))  #save html\n",
    "# fig.write_image(\"fig1.png\") # save image\n",
    "\n",
    "#execute control visualize\n",
    "excute_bank = layer_df[layer_df.control==\"E\"].bank\n",
    "plt.plot(excute_bank)"
   ]
  },
  {
   "cell_type": "code",
   "execution_count": null,
   "id": "2a098e54",
   "metadata": {},
   "outputs": [],
   "source": []
  }
 ],
 "metadata": {
  "interpreter": {
   "hash": "af814f4f62edf10ac9090a8443b5c48a73c68fb17d702af40c0ea7d0405f7f57"
  },
  "kernelspec": {
   "display_name": "Python 3",
   "language": "python",
   "name": "python3"
  },
  "language_info": {
   "codemirror_mode": {
    "name": "ipython",
    "version": 3
   },
   "file_extension": ".py",
   "mimetype": "text/x-python",
   "name": "python",
   "nbconvert_exporter": "python",
   "pygments_lexer": "ipython3",
   "version": "3.9.1"
  }
 },
 "nbformat": 4,
 "nbformat_minor": 5
}
